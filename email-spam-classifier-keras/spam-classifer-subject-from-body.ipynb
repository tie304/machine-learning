{
 "cells": [
  {
   "cell_type": "markdown",
   "metadata": {},
   "source": [
    "# Spam Classifer Kaggle Competition 98.6% accuracy solution\n"
   ]
  },
  {
   "cell_type": "markdown",
   "metadata": {},
   "source": [
    "In is notebook I will be completing the challenge listed at https://inclass.kaggle.com/c/adcg-ss14-challenge-02-spam-mails-detection. "
   ]
  },
  {
   "cell_type": "code",
   "execution_count": 1,
   "metadata": {
    "scrolled": true
   },
   "outputs": [],
   "source": [
    "import pandas as pd\n",
    "import numpy as np\n",
    "import matplotlib.pyplot as plt\n",
    "from sklearn.model_selection import GridSearchCV\n",
    "from tensorflow.keras.wrappers.scikit_learn import KerasClassifier\n",
    "from bs4 import BeautifulSoup\n",
    "from tensorflow.keras.callbacks import TensorBoard\n",
    "from tensorflow.keras.models import Sequential\n",
    "from tensorflow.keras.layers import Dense\n",
    "from sklearn.feature_extraction.text import CountVectorizer"
   ]
  },
  {
   "cell_type": "markdown",
   "metadata": {},
   "source": [
    "## Step 1: Collect Data"
   ]
  },
  {
   "cell_type": "markdown",
   "metadata": {},
   "source": [
    "1. Download git repo \n",
    "2. Download Kaggle compititon data here: https://inclass.kaggle.com/c/adcg-ss14-challenge-02-spam-mails-detection. \n",
    "\n",
    "Kaggle provides an extract script and that may work I however wrote my own that makes use of \"eml_parser\" to extract the subject and email. <br> <br> My parser extracts both the <strong>\"subject\"</strong> and <strong>\"from\"</strong> and that's the data we'll use to train our model. The extractor will extract the data into \"train_data.csv\" and \"test_data.csv\""
   ]
  },
  {
   "cell_type": "markdown",
   "metadata": {},
   "source": [
    "## Step 2: Preprocess Data"
   ]
  },
  {
   "cell_type": "code",
   "execution_count": 2,
   "metadata": {},
   "outputs": [],
   "source": [
    "train_data = pd.read_csv('train_data.csv',index_col=0)\n",
    "test_data = pd.read_csv('test_data.csv',index_col=0)"
   ]
  },
  {
   "cell_type": "markdown",
   "metadata": {},
   "source": [
    "Remove 'b on begining of string training and test data strings"
   ]
  },
  {
   "cell_type": "code",
   "execution_count": 3,
   "metadata": {},
   "outputs": [],
   "source": [
    "\n",
    "train_data['body'] = train_data['body'].str.slice(1,-1)\n",
    "test_data['body'] = test_data['body'].str.slice(1,-1)\n"
   ]
  },
  {
   "cell_type": "markdown",
   "metadata": {},
   "source": [
    "Replace missing \"subject\" columns with <strong>No Subject</strong> and missing \"from\" columns with <strong>?</strong>"
   ]
  },
  {
   "cell_type": "code",
   "execution_count": 4,
   "metadata": {},
   "outputs": [
    {
     "name": "stdout",
     "output_type": "stream",
     "text": [
      "train missing values 3\n",
      "test missing values 4\n",
      "____________________________________\n",
      "train missing values 0\n",
      "test missing values 0\n"
     ]
    }
   ],
   "source": [
    "\n",
    "print(\"train missing values\",train_data.isnull().values.sum())\n",
    "print(\"test missing values\",test_data.isnull().values.sum())\n",
    "\n",
    "#get indexes of missing values\n",
    "train_indices = np.where(train_data['subject'].isna())\n",
    "test_indices = np.where(test_data['subject'].isna())\n",
    "\n",
    "#fill missing subject values\n",
    "train_data['subject'] = train_data['subject'].fillna('no subject')\n",
    "test_data['subject'] = test_data['subject'].fillna('no subject')\n",
    "#vill missing training values\n",
    "train_data['from'] = train_data['from'].fillna('?')\n",
    "test_data['from'] = test_data['from'].fillna('?')\n",
    "\n",
    "print('____________________________________')\n",
    "print(\"train missing values\",train_data.isnull().values.sum())\n",
    "print(\"test missing values\",test_data.isnull().values.sum())\n",
    "    \n"
   ]
  },
  {
   "cell_type": "markdown",
   "metadata": {},
   "source": [
    "Vectorize columns with <a href=\"https://scikit-learn.org/stable/modules/generated/sklearn.feature_extraction.text.CountVectorizer.html\">CountVectorizer</a> from sklean. Durring this step I'll be vectorizing both columns in order to feed it through the neural net. We need to vectorize each column we want to pass through separately. <br><br>\n",
    "\n",
    "Step 1: Create n instances of count vectorizer for each column <br>\n",
    "Step 2: Fit on test data ONLY for each column<br>\n",
    "Step 3: Transform each column using .transform<br>\n",
    "Step 4: Concatenate each column togeather<br>\n"
   ]
  },
  {
   "cell_type": "code",
   "execution_count": 5,
   "metadata": {},
   "outputs": [
    {
     "name": "stdout",
     "output_type": "stream",
     "text": [
      "(2500, 79794)\n",
      "(1827, 79794)\n"
     ]
    }
   ],
   "source": [
    "\"\"\"\n",
    "function that transforms N columns in a dataset to vectors and then concats them.\n",
    "Must have == number of training and test data columns\n",
    "\n",
    "\n",
    "\n",
    "Args:\n",
    "    VectorizerClass: type of vectorizer to use\n",
    "    train_data: your training data\n",
    "    test_data: your test data\n",
    "    \n",
    "Returns vectorized columns of dataset for test and train data\n",
    "\"\"\"\n",
    "\n",
    "def vectorize_columns(VectorizerClass, train_data, test_data):\n",
    "    #if your naughty\n",
    "    if len(train_data) != len(test_data):\n",
    "        raise ValueError(\"Please provide an equal number of columns in train_data and test_data\")\n",
    "        \n",
    "    train_columns = []\n",
    "    test_columns = []\n",
    "    for train_column, test_column in zip(train_data, test_data):        \n",
    "        #create new instance of vectorizer each iteration\n",
    "        vectorizer = VectorizerClass(lowercase=True)\n",
    "        #fit only on training data\n",
    "        vectorizer.fit(train_column)\n",
    "        #transform both train and test\n",
    "        transform_train = vectorizer.transform(train_column)\n",
    "        transform_test = vectorizer.transform(test_column)\n",
    "        #create dataframe for later concat\n",
    "        train = pd.DataFrame(transform_train.todense(), columns=vectorizer.get_feature_names())\n",
    "        test = pd.DataFrame(transform_test.todense(), columns=vectorizer.get_feature_names())\n",
    "        #append to corresponding lists\n",
    "        train_columns.append(train)\n",
    "        test_columns.append(test)\n",
    "        \n",
    "        \n",
    "    X_train = pd.concat(train_columns,axis=1)\n",
    "    X_test = pd.concat(test_columns,axis=1)\n",
    "    \n",
    "    return X_train, X_test\n",
    "\n",
    "subject = train_data['subject']\n",
    "\n",
    "\n",
    "X_train, X_test = vectorize_columns(CountVectorizer, train_data=[train_data['subject'], train_data['from'], train_data['body']], test_data = [test_data['subject'], test_data['from'], test_data['body']])\n",
    "\n",
    "\n",
    "print(X_train.shape)\n",
    "print(X_test.shape)"
   ]
  },
  {
   "cell_type": "markdown",
   "metadata": {},
   "source": [
    "get labels to be used for the prediction"
   ]
  },
  {
   "cell_type": "code",
   "execution_count": 6,
   "metadata": {},
   "outputs": [],
   "source": [
    "#get y labels\n",
    "y_train = train_data['prediction']"
   ]
  },
  {
   "cell_type": "markdown",
   "metadata": {},
   "source": [
    "## Build Model"
   ]
  },
  {
   "cell_type": "markdown",
   "metadata": {},
   "source": [
    "We'll be using a shallow neural network with 2 dense layers with the last layer using a sigmoid activation function for the last layer outputing a probability for each of the classes. For our loss function we'll be using binary crossentropy that's used if you if you have only 2 classes to predict. <br> <br>\n",
    "\n",
    "We're posing the question what is the probability of the email not being spam. Ideally we want a probability of 1 (100%) for not spam and 0 (0%) for spam. "
   ]
  },
  {
   "cell_type": "code",
   "execution_count": 7,
   "metadata": {},
   "outputs": [],
   "source": [
    "input_dim = X_train.shape[1]\n",
    "def create_model():\n",
    "    model = Sequential()\n",
    "\n",
    "    model.add(Dense(10, input_dim=input_dim, activation=\"relu\"))\n",
    "    model.add(Dense(1, activation=\"sigmoid\"))\n",
    "\n",
    "    model.compile(loss='binary_crossentropy',optimizer='adam', metrics=['acc'])\n",
    "    \n",
    "    return model\n",
    "    \n",
    "\n"
   ]
  },
  {
   "cell_type": "markdown",
   "metadata": {},
   "source": [
    "Using <a href=\"https://www.tensorflow.org/api_docs/python/tf/keras/wrappers/scikit_learn/KerasClassifier\">KerasClassifer</a> and <a href=\"https://scikit-learn.org/stable/modules/generated/sklearn.model_selection.GridSearchCV.html\">GridSearchCV</a> find the optimial hyper parameters and print the results. Due to memory errors grid search wont function on my local machine"
   ]
  },
  {
   "cell_type": "code",
   "execution_count": 8,
   "metadata": {},
   "outputs": [],
   "source": [
    "\n",
    "\n",
    "# # create model\n",
    "# model = KerasClassifier(build_fn=create_model, verbose=1)\n",
    "\n",
    "# # define the grid search parameters\n",
    "# epochs = [6,7,8,9,10,11]\n",
    "# #pass params must be a dict.\n",
    "# param_grid = dict(epochs=epochs)\n",
    "# grid = GridSearchCV(estimator=model, param_grid=param_grid, n_jobs=-1)\n",
    "# grid_result = grid.fit(X_train, y_train)\n",
    "\n",
    "# # summarize results\n",
    "# print(\"Best: %f using %s\" % (grid_result.best_score_, grid_result.best_params_))\n",
    "# means = grid_result.cv_results_['mean_test_score']\n",
    "# stds = grid_result.cv_results_['std_test_score']\n",
    "# params = grid_result.cv_results_['params']\n",
    "# for mean, stdev, param in zip(means, stds, params):\n",
    "#     print(\"%f (%f) with: %r\" % (mean, stdev, param))\n",
    "\n"
   ]
  },
  {
   "cell_type": "markdown",
   "metadata": {},
   "source": [
    "Fit model on best hyper parameters."
   ]
  },
  {
   "cell_type": "code",
   "execution_count": 9,
   "metadata": {},
   "outputs": [
    {
     "name": "stdout",
     "output_type": "stream",
     "text": [
      "Train on 2000 samples, validate on 500 samples\n",
      "Epoch 1/5\n",
      "2000/2000 [==============================] - 12s 6ms/sample - loss: 0.1757 - acc: 0.9550 - val_loss: 0.0972 - val_acc: 0.9820\n",
      "Epoch 2/5\n",
      "2000/2000 [==============================] - 7s 3ms/sample - loss: 0.0708 - acc: 0.9910 - val_loss: 0.0901 - val_acc: 0.9800\n",
      "Epoch 3/5\n",
      "2000/2000 [==============================] - 7s 3ms/sample - loss: 0.0134 - acc: 1.0000 - val_loss: 0.0579 - val_acc: 0.9880\n",
      "Epoch 4/5\n",
      "2000/2000 [==============================] - 7s 3ms/sample - loss: 0.0070 - acc: 1.0000 - val_loss: 0.0554 - val_acc: 0.9860\n",
      "Epoch 5/5\n",
      "2000/2000 [==============================] - 7s 3ms/sample - loss: 0.0047 - acc: 1.0000 - val_loss: 0.0565 - val_acc: 0.9860\n"
     ]
    }
   ],
   "source": [
    "model = create_model()\n",
    "tensorboard = TensorBoard(log_dir='./logs')\n",
    "history = model.fit(X_train, y_train, epochs=5, verbose=1, validation_split=0.20, batch_size=10, callbacks=[tensorboard])"
   ]
  },
  {
   "cell_type": "markdown",
   "metadata": {},
   "source": [
    "Plot Acccuracy and Loss"
   ]
  },
  {
   "cell_type": "code",
   "execution_count": 10,
   "metadata": {},
   "outputs": [],
   "source": [
    "import matplotlib.pyplot as plt\n",
    "plt.style.use('ggplot')\n",
    "\n",
    "def plot_history(history):\n",
    "    acc = history.history['acc']\n",
    "    val_acc = history.history['val_acc']\n",
    "    loss = history.history['loss']\n",
    "    val_loss = history.history['val_loss']\n",
    "    x = range(1, len(acc) + 1)\n",
    "\n",
    "    plt.figure(figsize=(12, 5))\n",
    "    plt.subplot(1, 2, 1)\n",
    "    plt.plot(x, acc, 'b', label='Training acc')\n",
    "    plt.plot(x, val_acc, 'r', label='Validation acc')\n",
    "    plt.title('Training and validation accuracy')\n",
    "    plt.legend()\n",
    "    plt.subplot(1, 2, 2)\n",
    "    plt.plot(x, loss, 'b', label='Training loss')\n",
    "    plt.plot(x, val_loss, 'r', label='Validation loss')\n",
    "    plt.title('Training and validation loss')\n",
    "    plt.legend()"
   ]
  },
  {
   "cell_type": "code",
   "execution_count": 11,
   "metadata": {},
   "outputs": [
    {
     "data": {
      "image/png": "[encoded data removed]",
      "text/plain": [
       "<Figure size 864x360 with 2 Axes>"
      ]
     },
     "metadata": {},
     "output_type": "display_data"
    }
   ],
   "source": [
    "plot_history(history)"
   ]
  },
  {
   "cell_type": "markdown",
   "metadata": {},
   "source": [
    "Use model to predict classes for test set"
   ]
  },
  {
   "cell_type": "code",
   "execution_count": 12,
   "metadata": {},
   "outputs": [],
   "source": [
    "results = model.predict_classes(X_test)"
   ]
  },
  {
   "cell_type": "code",
   "execution_count": 13,
   "metadata": {},
   "outputs": [],
   "source": [
    "kaggle_prediction = pd.DataFrame(columns=['Id', 'Prediction'])"
   ]
  },
  {
   "cell_type": "code",
   "execution_count": 14,
   "metadata": {},
   "outputs": [],
   "source": [
    "kaggle_prediction['Id'] = test_data['ID']"
   ]
  },
  {
   "cell_type": "code",
   "execution_count": 15,
   "metadata": {},
   "outputs": [
    {
     "data": {
      "text/html": [
       "<div>\n",
       "<style scoped>\n",
       "    .dataframe tbody tr th:only-of-type {\n",
       "        vertical-align: middle;\n",
       "    }\n",
       "\n",
       "    .dataframe tbody tr th {\n",
       "        vertical-align: top;\n",
       "    }\n",
       "\n",
       "    .dataframe thead th {\n",
       "        text-align: right;\n",
       "    }\n",
       "</style>\n",
       "<table border=\"1\" class=\"dataframe\">\n",
       "  <thead>\n",
       "    <tr style=\"text-align: right;\">\n",
       "      <th></th>\n",
       "      <th>Id</th>\n",
       "      <th>Prediction</th>\n",
       "    </tr>\n",
       "  </thead>\n",
       "  <tbody>\n",
       "    <tr>\n",
       "      <th>0</th>\n",
       "      <td>1131</td>\n",
       "      <td>0</td>\n",
       "    </tr>\n",
       "    <tr>\n",
       "      <th>1</th>\n",
       "      <td>805</td>\n",
       "      <td>1</td>\n",
       "    </tr>\n",
       "    <tr>\n",
       "      <th>2</th>\n",
       "      <td>336</td>\n",
       "      <td>1</td>\n",
       "    </tr>\n",
       "    <tr>\n",
       "      <th>3</th>\n",
       "      <td>220</td>\n",
       "      <td>0</td>\n",
       "    </tr>\n",
       "    <tr>\n",
       "      <th>4</th>\n",
       "      <td>111</td>\n",
       "      <td>0</td>\n",
       "    </tr>\n",
       "    <tr>\n",
       "      <th>5</th>\n",
       "      <td>208</td>\n",
       "      <td>1</td>\n",
       "    </tr>\n",
       "    <tr>\n",
       "      <th>6</th>\n",
       "      <td>1574</td>\n",
       "      <td>0</td>\n",
       "    </tr>\n",
       "    <tr>\n",
       "      <th>7</th>\n",
       "      <td>1324</td>\n",
       "      <td>1</td>\n",
       "    </tr>\n",
       "    <tr>\n",
       "      <th>8</th>\n",
       "      <td>692</td>\n",
       "      <td>1</td>\n",
       "    </tr>\n",
       "    <tr>\n",
       "      <th>9</th>\n",
       "      <td>1243</td>\n",
       "      <td>1</td>\n",
       "    </tr>\n",
       "  </tbody>\n",
       "</table>\n",
       "</div>"
      ],
      "text/plain": [
       "     Id  Prediction\n",
       "0  1131           0\n",
       "1   805           1\n",
       "2   336           1\n",
       "3   220           0\n",
       "4   111           0\n",
       "5   208           1\n",
       "6  1574           0\n",
       "7  1324           1\n",
       "8   692           1\n",
       "9  1243           1"
      ]
     },
     "execution_count": 15,
     "metadata": {},
     "output_type": "execute_result"
    }
   ],
   "source": [
    "kaggle_prediction['Prediction'] = results\n",
    "kaggle_prediction.head(10)"
   ]
  },
  {
   "cell_type": "code",
   "execution_count": 16,
   "metadata": {},
   "outputs": [],
   "source": [
    "kaggle_prediction.to_csv('keras_spam_predictions.csv' ,index=False)"
   ]
  },
  {
   "attachments": {
    "Screenshot_2019-03-20%20ADCG%20SS14%20Challenge%2002%20-%20Spam%20Mails%20Detection%20Kaggle%281%29.png": {
     "image/png": "[encoded data removed]"
    }
   },
   "cell_type": "markdown",
   "metadata": {},
   "source": [
    "![Screenshot_2019-03-20%20ADCG%20SS14%20Challenge%2002%20-%20Spam%20Mails%20Detection%20Kaggle%281%29.png](attachment:Screenshot_2019-03-20%20ADCG%20SS14%20Challenge%2002%20-%20Spam%20Mails%20Detection%20Kaggle%281%29.png)"
   ]
  },
  {
   "cell_type": "code",
   "execution_count": null,
   "metadata": {},
   "outputs": [],
   "source": []
  }
 ],
 "metadata": {
  "kernelspec": {
   "display_name": "Python 3",
   "language": "python",
   "name": "python3"
  },
  "language_info": {
   "codemirror_mode": {
    "name": "ipython",
    "version": 3
   },
   "file_extension": ".py",
   "mimetype": "text/x-python",
   "name": "python",
   "nbconvert_exporter": "python",
   "pygments_lexer": "ipython3",
   "version": "3.6.7"
  }
 },
 "nbformat": 4,
 "nbformat_minor": 2
}
